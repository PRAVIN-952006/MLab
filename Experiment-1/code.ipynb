{
 "cells": [
  {
   "cell_type": "markdown",
   "id": "8615dc4a",
   "metadata": {},
   "source": [
    "# Experiment 1: Exploring Core Python Libraries for Machine Learning\n",
    "This notebook demonstrates the use of essential Python libraries:\n",
    "\n",
    "- **NumPy**: Array creation, manipulation\n",
    "- **Pandas**: Data loading, cleaning, and preprocessing\n",
    "- **SciPy**: Mathematical and statistical operations\n",
    "- **Scikit-learn**: Basic model training and evaluation (KNN)\n",
    "- **Matplotlib**: Visualizing data using plots\n",
    "\n",
    "Dataset used: **Iris Dataset**\n"
   ]
  },
  {
   "cell_type": "markdown",
   "id": "a4ec6fa7",
   "metadata": {},
   "source": [
    "### Numpy"
   ]
  },
  {
   "cell_type": "code",
   "execution_count": 1,
   "id": "74f69614",
   "metadata": {},
   "outputs": [],
   "source": [
    "import numpy as np"
   ]
  },
  {
   "cell_type": "markdown",
   "id": "5d8e84fe",
   "metadata": {},
   "source": [
    "#### 1. Creating arrays"
   ]
  },
  {
   "cell_type": "code",
   "execution_count": 2,
   "id": "23864dab",
   "metadata": {},
   "outputs": [
    {
     "name": "stdout",
     "output_type": "stream",
     "text": [
      "1D Array: [1 2 3]\n",
      "2D Array:\n",
      " [[4 5 6]\n",
      " [7 8 9]]\n"
     ]
    }
   ],
   "source": [
    "a = np.array([1, 2, 3])\n",
    "b = np.array([[4, 5, 6], [7, 8, 9]])\n",
    "print(\"1D Array:\", a)\n",
    "print(\"2D Array:\\n\", b)"
   ]
  },
  {
   "cell_type": "markdown",
   "id": "aa4aec34",
   "metadata": {},
   "source": [
    "#### 2. Array attributes"
   ]
  },
  {
   "cell_type": "code",
   "execution_count": 3,
   "id": "0e411ea5",
   "metadata": {},
   "outputs": [
    {
     "name": "stdout",
     "output_type": "stream",
     "text": [
      "Shape: (2, 3)\n",
      "Data type: int32\n",
      "Size: 6\n",
      "Number of dimensions: 2\n"
     ]
    }
   ],
   "source": [
    "print(\"Shape:\", b.shape)\n",
    "print(\"Data type:\", b.dtype)\n",
    "print(\"Size:\", b.size)\n",
    "print(\"Number of dimensions:\", b.ndim)"
   ]
  },
  {
   "cell_type": "markdown",
   "id": "05210e42",
   "metadata": {},
   "source": [
    "#### 3. Special arrays "
   ]
  },
  {
   "cell_type": "code",
   "execution_count": 4,
   "id": "6cfa9364",
   "metadata": {},
   "outputs": [
    {
     "name": "stdout",
     "output_type": "stream",
     "text": [
      "Zeros:\n",
      " [[0. 0. 0.]\n",
      " [0. 0. 0.]]\n",
      "Ones:\n",
      " [[1. 1. 1.]\n",
      " [1. 1. 1.]\n",
      " [1. 1. 1.]]\n",
      "Identity matrix:\n",
      " [[1. 0. 0.]\n",
      " [0. 1. 0.]\n",
      " [0. 0. 1.]]\n",
      "Random array:\n",
      " [[0.77966319 0.03927419 0.13883326]\n",
      " [0.09930938 0.18760835 0.87196428]]\n"
     ]
    }
   ],
   "source": [
    "zeros = np.zeros((2, 3))\n",
    "ones = np.ones((3, 3))\n",
    "identity = np.eye(3)\n",
    "random_array = np.random.rand(2, 3)\n",
    "print(\"Zeros:\\n\", zeros)\n",
    "print(\"Ones:\\n\", ones)\n",
    "print(\"Identity matrix:\\n\", identity)\n",
    "print(\"Random array:\\n\", random_array)\n"
   ]
  },
  {
   "cell_type": "markdown",
   "id": "ce3fa50a",
   "metadata": {},
   "source": [
    "#### 4. Reshaping and flattening"
   ]
  },
  {
   "cell_type": "code",
   "execution_count": 5,
   "id": "f1159f0a",
   "metadata": {},
   "outputs": [
    {
     "name": "stdout",
     "output_type": "stream",
     "text": [
      "Reshaped (3x2):\n",
      " [[4 5]\n",
      " [6 7]\n",
      " [8 9]]\n",
      "Flattened:\n",
      " [4 5 6 7 8 9]\n"
     ]
    }
   ],
   "source": [
    "reshaped = b.reshape(3, 2)\n",
    "flattened = b.flatten()\n",
    "print(\"Reshaped (3x2):\\n\", reshaped)\n",
    "print(\"Flattened:\\n\", flattened)"
   ]
  },
  {
   "cell_type": "markdown",
   "id": "f5638613",
   "metadata": {},
   "source": [
    "#### 5. Indexing and slicing"
   ]
  },
  {
   "cell_type": "code",
   "execution_count": 6,
   "id": "a7557b42",
   "metadata": {},
   "outputs": [
    {
     "name": "stdout",
     "output_type": "stream",
     "text": [
      "First row: [4 5 6]\n",
      "Last column: [6 9]\n",
      "Element at (1,2): 9\n"
     ]
    }
   ],
   "source": [
    "print(\"First row:\", b[0])\n",
    "print(\"Last column:\", b[:, -1])\n",
    "print(\"Element at (1,2):\", b[1, 2])"
   ]
  },
  {
   "cell_type": "markdown",
   "id": "11f4e0f0",
   "metadata": {},
   "source": [
    "#### 6. Mathematical operations"
   ]
  },
  {
   "cell_type": "code",
   "execution_count": 7,
   "id": "a213851f",
   "metadata": {},
   "outputs": [
    {
     "name": "stdout",
     "output_type": "stream",
     "text": [
      "Element-wise addition:\n",
      " [[14 15 16]\n",
      " [17 18 19]]\n",
      "Element-wise multiplication:\n",
      " [[ 8 10 12]\n",
      " [14 16 18]]\n",
      "Mean of b: 6.5\n",
      "Sum of elements: 39\n",
      "Standard deviation: 1.707825127659933\n"
     ]
    }
   ],
   "source": [
    "print(\"Element-wise addition:\\n\", b + 10)\n",
    "print(\"Element-wise multiplication:\\n\", b * 2)\n",
    "print(\"Mean of b:\", np.mean(b))\n",
    "print(\"Sum of elements:\", np.sum(b))\n",
    "print(\"Standard deviation:\", np.std(b))"
   ]
  },
  {
   "cell_type": "markdown",
   "id": "41e1b7c6",
   "metadata": {},
   "source": [
    "#### 7. Matrix operations"
   ]
  },
  {
   "cell_type": "code",
   "execution_count": 8,
   "id": "6d5a221c",
   "metadata": {},
   "outputs": [
    {
     "name": "stdout",
     "output_type": "stream",
     "text": [
      "Matrix multiplication:\n",
      " [[19 22]\n",
      " [43 50]]\n",
      "Transpose:\n",
      " [[1 3]\n",
      " [2 4]]\n",
      "Inverse of c:\n",
      " [[-2.   1. ]\n",
      " [ 1.5 -0.5]]\n"
     ]
    }
   ],
   "source": [
    "c = np.array([[1, 2], [3, 4]])\n",
    "d = np.array([[5, 6], [7, 8]])\n",
    "print(\"Matrix multiplication:\\n\", np.dot(c, d))\n",
    "print(\"Transpose:\\n\", c.T)\n",
    "print(\"Inverse of c:\\n\", np.linalg.inv(c))"
   ]
  },
  {
   "cell_type": "markdown",
   "id": "c4a43346",
   "metadata": {},
   "source": [
    "#### 8. Boolean indexing"
   ]
  },
  {
   "cell_type": "code",
   "execution_count": 9,
   "id": "4fe3e9c1",
   "metadata": {},
   "outputs": [
    {
     "name": "stdout",
     "output_type": "stream",
     "text": [
      "Elements greater than 30: [40 50]\n"
     ]
    }
   ],
   "source": [
    "arr = np.array([10, 20, 30, 40, 50])\n",
    "bool_idx = arr > 30\n",
    "print(\"Elements greater than 30:\", arr[bool_idx])"
   ]
  },
  {
   "cell_type": "markdown",
   "id": "d49691b5",
   "metadata": {},
   "source": [
    "#### 9. Aggregations along axis"
   ]
  },
  {
   "cell_type": "code",
   "execution_count": 10,
   "id": "def7cad2",
   "metadata": {},
   "outputs": [
    {
     "name": "stdout",
     "output_type": "stream",
     "text": [
      "Sum along rows (axis=1): [15 24]\n",
      "Max along columns (axis=0): [7 8 9]\n"
     ]
    }
   ],
   "source": [
    "print(\"Sum along rows (axis=1):\", b.sum(axis=1))\n",
    "print(\"Max along columns (axis=0):\", b.max(axis=0))"
   ]
  },
  {
   "cell_type": "markdown",
   "id": "c1dd2c26",
   "metadata": {},
   "source": [
    "### Pandas"
   ]
  },
  {
   "cell_type": "code",
   "execution_count": 11,
   "id": "e74ee6ee",
   "metadata": {},
   "outputs": [],
   "source": [
    "import pandas as pd\n",
    "from sklearn.datasets import load_iris"
   ]
  },
  {
   "cell_type": "markdown",
   "id": "23598d0f",
   "metadata": {},
   "source": [
    "#### Load Iris dataset into a DataFrame"
   ]
  },
  {
   "cell_type": "code",
   "execution_count": 12,
   "id": "89639f59",
   "metadata": {},
   "outputs": [],
   "source": [
    "iris = load_iris()\n",
    "df = pd.DataFrame(data=iris.data, columns=iris.feature_names)\n",
    "df['target'] = iris.target"
   ]
  },
  {
   "cell_type": "markdown",
   "id": "251b1471",
   "metadata": {},
   "source": [
    "#### Summary statistics"
   ]
  },
  {
   "cell_type": "code",
   "execution_count": 13,
   "id": "919007da",
   "metadata": {},
   "outputs": [
    {
     "name": "stdout",
     "output_type": "stream",
     "text": [
      "       sepal length (cm)  sepal width (cm)  petal length (cm)  \\\n",
      "count         150.000000        150.000000         150.000000   \n",
      "mean            5.843333          3.057333           3.758000   \n",
      "std             0.828066          0.435866           1.765298   \n",
      "min             4.300000          2.000000           1.000000   \n",
      "25%             5.100000          2.800000           1.600000   \n",
      "50%             5.800000          3.000000           4.350000   \n",
      "75%             6.400000          3.300000           5.100000   \n",
      "max             7.900000          4.400000           6.900000   \n",
      "\n",
      "       petal width (cm)      target  \n",
      "count        150.000000  150.000000  \n",
      "mean           1.199333    1.000000  \n",
      "std            0.762238    0.819232  \n",
      "min            0.100000    0.000000  \n",
      "25%            0.300000    0.000000  \n",
      "50%            1.300000    1.000000  \n",
      "75%            1.800000    2.000000  \n",
      "max            2.500000    2.000000  \n"
     ]
    }
   ],
   "source": [
    "print(df.describe())"
   ]
  },
  {
   "cell_type": "markdown",
   "id": "978a15a6",
   "metadata": {},
   "source": [
    "#### Checking missing values"
   ]
  },
  {
   "cell_type": "code",
   "execution_count": 14,
   "id": "6788bd64",
   "metadata": {},
   "outputs": [
    {
     "name": "stdout",
     "output_type": "stream",
     "text": [
      "Missing values:\n",
      " sepal length (cm)    0\n",
      "sepal width (cm)     0\n",
      "petal length (cm)    0\n",
      "petal width (cm)     0\n",
      "target               0\n",
      "dtype: int64\n"
     ]
    }
   ],
   "source": [
    "print(\"Missing values:\\n\", df.isnull().sum())"
   ]
  },
  {
   "cell_type": "markdown",
   "id": "5da97619",
   "metadata": {},
   "source": [
    "#### Label mapping"
   ]
  },
  {
   "cell_type": "code",
   "execution_count": 15,
   "id": "9aa32bf4",
   "metadata": {},
   "outputs": [
    {
     "data": {
      "application/vnd.microsoft.datawrangler.viewer.v0+json": {
       "columns": [
        {
         "name": "index",
         "rawType": "int64",
         "type": "integer"
        },
        {
         "name": "sepal length (cm)",
         "rawType": "float64",
         "type": "float"
        },
        {
         "name": "sepal width (cm)",
         "rawType": "float64",
         "type": "float"
        },
        {
         "name": "petal length (cm)",
         "rawType": "float64",
         "type": "float"
        },
        {
         "name": "petal width (cm)",
         "rawType": "float64",
         "type": "float"
        },
        {
         "name": "target",
         "rawType": "int32",
         "type": "integer"
        },
        {
         "name": "species",
         "rawType": "object",
         "type": "string"
        }
       ],
       "ref": "fc5faf7e-03d8-40f4-87a0-fce693855161",
       "rows": [
        [
         "0",
         "5.1",
         "3.5",
         "1.4",
         "0.2",
         "0",
         "setosa"
        ],
        [
         "1",
         "4.9",
         "3.0",
         "1.4",
         "0.2",
         "0",
         "setosa"
        ],
        [
         "2",
         "4.7",
         "3.2",
         "1.3",
         "0.2",
         "0",
         "setosa"
        ],
        [
         "3",
         "4.6",
         "3.1",
         "1.5",
         "0.2",
         "0",
         "setosa"
        ],
        [
         "4",
         "5.0",
         "3.6",
         "1.4",
         "0.2",
         "0",
         "setosa"
        ]
       ],
       "shape": {
        "columns": 6,
        "rows": 5
       }
      },
      "text/html": [
       "<div>\n",
       "<style scoped>\n",
       "    .dataframe tbody tr th:only-of-type {\n",
       "        vertical-align: middle;\n",
       "    }\n",
       "\n",
       "    .dataframe tbody tr th {\n",
       "        vertical-align: top;\n",
       "    }\n",
       "\n",
       "    .dataframe thead th {\n",
       "        text-align: right;\n",
       "    }\n",
       "</style>\n",
       "<table border=\"1\" class=\"dataframe\">\n",
       "  <thead>\n",
       "    <tr style=\"text-align: right;\">\n",
       "      <th></th>\n",
       "      <th>sepal length (cm)</th>\n",
       "      <th>sepal width (cm)</th>\n",
       "      <th>petal length (cm)</th>\n",
       "      <th>petal width (cm)</th>\n",
       "      <th>target</th>\n",
       "      <th>species</th>\n",
       "    </tr>\n",
       "  </thead>\n",
       "  <tbody>\n",
       "    <tr>\n",
       "      <th>0</th>\n",
       "      <td>5.1</td>\n",
       "      <td>3.5</td>\n",
       "      <td>1.4</td>\n",
       "      <td>0.2</td>\n",
       "      <td>0</td>\n",
       "      <td>setosa</td>\n",
       "    </tr>\n",
       "    <tr>\n",
       "      <th>1</th>\n",
       "      <td>4.9</td>\n",
       "      <td>3.0</td>\n",
       "      <td>1.4</td>\n",
       "      <td>0.2</td>\n",
       "      <td>0</td>\n",
       "      <td>setosa</td>\n",
       "    </tr>\n",
       "    <tr>\n",
       "      <th>2</th>\n",
       "      <td>4.7</td>\n",
       "      <td>3.2</td>\n",
       "      <td>1.3</td>\n",
       "      <td>0.2</td>\n",
       "      <td>0</td>\n",
       "      <td>setosa</td>\n",
       "    </tr>\n",
       "    <tr>\n",
       "      <th>3</th>\n",
       "      <td>4.6</td>\n",
       "      <td>3.1</td>\n",
       "      <td>1.5</td>\n",
       "      <td>0.2</td>\n",
       "      <td>0</td>\n",
       "      <td>setosa</td>\n",
       "    </tr>\n",
       "    <tr>\n",
       "      <th>4</th>\n",
       "      <td>5.0</td>\n",
       "      <td>3.6</td>\n",
       "      <td>1.4</td>\n",
       "      <td>0.2</td>\n",
       "      <td>0</td>\n",
       "      <td>setosa</td>\n",
       "    </tr>\n",
       "  </tbody>\n",
       "</table>\n",
       "</div>"
      ],
      "text/plain": [
       "   sepal length (cm)  sepal width (cm)  petal length (cm)  petal width (cm)  \\\n",
       "0                5.1               3.5                1.4               0.2   \n",
       "1                4.9               3.0                1.4               0.2   \n",
       "2                4.7               3.2                1.3               0.2   \n",
       "3                4.6               3.1                1.5               0.2   \n",
       "4                5.0               3.6                1.4               0.2   \n",
       "\n",
       "   target species  \n",
       "0       0  setosa  \n",
       "1       0  setosa  \n",
       "2       0  setosa  \n",
       "3       0  setosa  \n",
       "4       0  setosa  "
      ]
     },
     "execution_count": 15,
     "metadata": {},
     "output_type": "execute_result"
    }
   ],
   "source": [
    "df['species'] = df['target'].map({i: name for i, name in enumerate(iris.target_names)})\n",
    "df.head()"
   ]
  },
  {
   "cell_type": "markdown",
   "id": "9c9abe87",
   "metadata": {},
   "source": [
    "### Scipy"
   ]
  },
  {
   "cell_type": "code",
   "execution_count": 16,
   "id": "e7c67acb",
   "metadata": {},
   "outputs": [],
   "source": [
    "from scipy import stats"
   ]
  },
  {
   "cell_type": "markdown",
   "id": "a20d6234",
   "metadata": {},
   "source": [
    "#### Descriptive statistics"
   ]
  },
  {
   "cell_type": "code",
   "execution_count": 17,
   "id": "b33c536a",
   "metadata": {},
   "outputs": [
    {
     "name": "stdout",
     "output_type": "stream",
     "text": [
      "Mean: 9.858421503125175\n",
      "Mode: 4.210283922346833\n",
      "Median: 9.981544909928532\n",
      "Variance: 4.098203278803678\n",
      "Skewness: -0.14925870154472615\n",
      "Kurtosis: -0.14352703862832517\n"
     ]
    }
   ],
   "source": [
    "data = np.random.normal(loc=10, scale=2, size=100)\n",
    "mean = np.mean(data)\n",
    "mode = stats.mode(data, keepdims=True)\n",
    "median = np.median(data)\n",
    "variance = np.var(data)\n",
    "skewness = stats.skew(data)\n",
    "kurtosis = stats.kurtosis(data)\n",
    "\n",
    "print(f\"Mean: {mean}\\nMode: {mode.mode[0]}\\nMedian: {median}\")\n",
    "print(f\"Variance: {variance}\\nSkewness: {skewness}\\nKurtosis: {kurtosis}\")"
   ]
  },
  {
   "cell_type": "markdown",
   "id": "b4ef82a9",
   "metadata": {},
   "source": [
    "#### T-test between petal lengths of two species"
   ]
  },
  {
   "cell_type": "markdown",
   "id": "b2ea12ad",
   "metadata": {},
   "source": [
    "Null Hypothesis : \\\n",
    "&nbsp;&nbsp;&nbsp;&nbsp;The means of petal lengths for Setosa and Versicolor are equal. \\\n",
    "Alternative Hypothesis : \\\n",
    "&nbsp;&nbsp;&nbsp;&nbsp;The means are not equal. \\\n",
    "This is a two-tailed test."
   ]
  },
  {
   "cell_type": "code",
   "execution_count": 18,
   "id": "389c3f28",
   "metadata": {},
   "outputs": [
    {
     "name": "stdout",
     "output_type": "stream",
     "text": [
      "T-statistic: -39.492719391538095\n",
      "P-value: 5.404910513441677e-62\n"
     ]
    }
   ],
   "source": [
    "setosa_petal = df[df['species'] == 'setosa']['petal length (cm)']\n",
    "versicolor_petal = df[df['species'] == 'versicolor']['petal length (cm)']\n",
    "\n",
    "t_stat, p_value = stats.ttest_ind(setosa_petal, versicolor_petal)\n",
    "print(\"T-statistic:\", t_stat)\n",
    "print(\"P-value:\", p_value)"
   ]
  },
  {
   "cell_type": "markdown",
   "id": "69642105",
   "metadata": {},
   "source": [
    "For p value &lt; &alpha; we reject the null hypothesis.Therefore, there is very strong statistical evidence that the mean petal lengths of Setosa and Versicolor are significantly different."
   ]
  },
  {
   "cell_type": "markdown",
   "id": "ff2a9962",
   "metadata": {},
   "source": [
    "### Scikit-learn"
   ]
  },
  {
   "cell_type": "code",
   "execution_count": 19,
   "id": "7355cd04",
   "metadata": {},
   "outputs": [],
   "source": [
    "from sklearn.model_selection import train_test_split\n",
    "from sklearn.neighbors import KNeighborsClassifier\n",
    "from sklearn.metrics import accuracy_score, classification_report"
   ]
  },
  {
   "cell_type": "markdown",
   "id": "e491acba",
   "metadata": {},
   "source": [
    "#### Features and target"
   ]
  },
  {
   "cell_type": "code",
   "execution_count": 20,
   "id": "ab142b90",
   "metadata": {},
   "outputs": [],
   "source": [
    "X = df.iloc[:, :4]\n",
    "y = df['target']"
   ]
  },
  {
   "cell_type": "markdown",
   "id": "1ac8c564",
   "metadata": {},
   "source": [
    "#### Train-test split"
   ]
  },
  {
   "cell_type": "code",
   "execution_count": 21,
   "id": "3ac3420c",
   "metadata": {},
   "outputs": [],
   "source": [
    "X_train, X_test, y_train, y_test = train_test_split(X, y, test_size=0.2)\n"
   ]
  },
  {
   "cell_type": "markdown",
   "id": "634198d0",
   "metadata": {},
   "source": [
    "#### KNN model"
   ]
  },
  {
   "cell_type": "code",
   "execution_count": 22,
   "id": "579c0f68",
   "metadata": {},
   "outputs": [],
   "source": [
    "model = KNeighborsClassifier(n_neighbors=3)\n",
    "model.fit(X_train, y_train)\n",
    "y_pred = model.predict(X_test)"
   ]
  },
  {
   "cell_type": "markdown",
   "id": "778b82e9",
   "metadata": {},
   "source": [
    "#### Evaluation"
   ]
  },
  {
   "cell_type": "code",
   "execution_count": 23,
   "id": "b00e1635",
   "metadata": {},
   "outputs": [
    {
     "name": "stdout",
     "output_type": "stream",
     "text": [
      "Accuracy: 0.9666666666666667\n",
      "Classification Report:\n",
      "               precision    recall  f1-score   support\n",
      "\n",
      "           0       1.00      1.00      1.00         8\n",
      "           1       0.92      1.00      0.96        12\n",
      "           2       1.00      0.90      0.95        10\n",
      "\n",
      "    accuracy                           0.97        30\n",
      "   macro avg       0.97      0.97      0.97        30\n",
      "weighted avg       0.97      0.97      0.97        30\n",
      "\n"
     ]
    }
   ],
   "source": [
    "print(\"Accuracy:\", accuracy_score(y_test, y_pred))\n",
    "print(\"Classification Report:\\n\", classification_report(y_test, y_pred))"
   ]
  },
  {
   "cell_type": "markdown",
   "id": "14e57fe3",
   "metadata": {},
   "source": [
    "### Matplotlib"
   ]
  },
  {
   "cell_type": "code",
   "execution_count": 24,
   "id": "8cec2ce3",
   "metadata": {},
   "outputs": [],
   "source": [
    "import matplotlib.pyplot as plt\n",
    "import seaborn as sns"
   ]
  },
  {
   "cell_type": "markdown",
   "id": "c3a0c4aa",
   "metadata": {},
   "source": [
    "#### Histogram"
   ]
  },
  {
   "cell_type": "code",
   "execution_count": 25,
   "id": "ba93c6dd",
   "metadata": {},
   "outputs": [
    {
     "data": {
      "image/png": "[encoded data removed]",
      "text/plain": [
       "<Figure size 640x480 with 1 Axes>"
      ]
     },
     "metadata": {},
     "output_type": "display_data"
    }
   ],
   "source": [
    "df['sepal length (cm)'].hist(bins=20)\n",
    "plt.title(\"Histogram of Sepal Length\")\n",
    "plt.xlabel(\"Sepal Length (cm)\")\n",
    "plt.ylabel(\"Frequency\")\n",
    "plt.show()"
   ]
  },
  {
   "cell_type": "markdown",
   "id": "e89f89b6",
   "metadata": {},
   "source": [
    "#### Scatter plot"
   ]
  },
  {
   "cell_type": "code",
   "execution_count": 26,
   "id": "cf3866c4",
   "metadata": {},
   "outputs": [
    {
     "data": {
      "image/png": "[encoded data removed]",
      "text/plain": [
       "<Figure size 640x480 with 1 Axes>"
      ]
     },
     "metadata": {},
     "output_type": "display_data"
    }
   ],
   "source": [
    "sns.scatterplot(x='petal length (cm)', y='petal width (cm)', hue='species', data=df)\n",
    "plt.title(\"Petal Length vs Petal Width\")\n",
    "plt.show()"
   ]
  },
  {
   "cell_type": "markdown",
   "id": "8b241d4b",
   "metadata": {},
   "source": [
    "#### Heatmap of correlations"
   ]
  },
  {
   "cell_type": "code",
   "execution_count": 27,
   "id": "bea6c5a2",
   "metadata": {},
   "outputs": [
    {
     "data": {
      "image/png": "[encoded data removed]",
      "text/plain": [
       "<Figure size 800x600 with 2 Axes>"
      ]
     },
     "metadata": {},
     "output_type": "display_data"
    }
   ],
   "source": [
    "plt.figure(figsize=(8, 6))\n",
    "sns.heatmap(df.iloc[:, :4].corr(), annot=True, cmap='Blues')\n",
    "plt.title(\"Feature Correlation Heatmap\")\n",
    "plt.show()"
   ]
  }
 ],
 "metadata": {
  "kernelspec": {
   "display_name": "Python 3",
   "language": "python",
   "name": "python3"
  },
  "language_info": {
   "codemirror_mode": {
    "name": "ipython",
    "version": 3
   },
   "file_extension": ".py",
   "mimetype": "text/x-python",
   "name": "python",
   "nbconvert_exporter": "python",
   "pygments_lexer": "ipython3",
   "version": "3.12.6"
  }
 },
 "nbformat": 4,
 "nbformat_minor": 5
}
